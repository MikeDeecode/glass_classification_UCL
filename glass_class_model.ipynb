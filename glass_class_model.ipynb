{
  "nbformat": 4,
  "nbformat_minor": 0,
  "metadata": {
    "colab": {
      "name": "glass_class_model.ipynb",
      "provenance": [],
      "authorship_tag": "ABX9TyPWmEK3CPF3B5RCM8PWNnNY",
      "include_colab_link": true
    },
    "kernelspec": {
      "name": "python3",
      "display_name": "Python 3"
    }
  },
  "cells": [
    {
      "cell_type": "markdown",
      "metadata": {
        "id": "view-in-github",
        "colab_type": "text"
      },
      "source": [
        "<a href=\"https://colab.research.google.com/github/MikeDeecode/glass_classification_UCL/blob/master/glass_class_model.ipynb\" target=\"_parent\"><img src=\"https://colab.research.google.com/assets/colab-badge.svg\" alt=\"Open In Colab\"/></a>"
      ]
    },
    {
      "cell_type": "markdown",
      "metadata": {
        "id": "HQqlFV-D3UOC",
        "colab_type": "text"
      },
      "source": [
        "#**USING LOGISTIC REGRESSION MODEL TO DETERMINE THE GLASS TYPE**"
      ]
    },
    {
      "cell_type": "code",
      "metadata": {
        "id": "xbxi99pA2hbJ",
        "colab_type": "code",
        "colab": {
          "base_uri": "https://localhost:8080/",
          "height": 35
        },
        "outputId": "57cb718b-cea0-4d20-9ba3-cd3c4cb98bee"
      },
      "source": [
        "import numpy as np \n",
        "import pandas as pd\n",
        "import warnings\n",
        "warnings.filterwarnings('ignore')\n",
        "import matplotlib.pyplot as plt\n",
        "%matplotlib inline\n",
        "\n",
        "print(\"Setup complete\")"
      ],
      "execution_count": 435,
      "outputs": [
        {
          "output_type": "stream",
          "text": [
            "Setup complete\n"
          ],
          "name": "stdout"
        }
      ]
    },
    {
      "cell_type": "markdown",
      "metadata": {
        "id": "fax7k9gJ3isc",
        "colab_type": "text"
      },
      "source": [
        "Load the dataset"
      ]
    },
    {
      "cell_type": "code",
      "metadata": {
        "id": "G7jrwTld3GJ_",
        "colab_type": "code",
        "colab": {
          "base_uri": "https://localhost:8080/",
          "height": 35
        },
        "outputId": "e1334423-ead0-491a-cd21-a61c8cba808e"
      },
      "source": [
        "glass_data = pd.read_csv(\"/content/glass-data.csv\")\n",
        "\n",
        "print(\"Success\")"
      ],
      "execution_count": 436,
      "outputs": [
        {
          "output_type": "stream",
          "text": [
            "Success\n"
          ],
          "name": "stdout"
        }
      ]
    },
    {
      "cell_type": "markdown",
      "metadata": {
        "id": "4MZ1Z5j33taH",
        "colab_type": "text"
      },
      "source": [
        "Explore the data"
      ]
    },
    {
      "cell_type": "code",
      "metadata": {
        "id": "VoODQFck3rbY",
        "colab_type": "code",
        "colab": {
          "base_uri": "https://localhost:8080/",
          "height": 202
        },
        "outputId": "6aae9bed-5486-40d1-e107-6c71c0ce263f"
      },
      "source": [
        "glass_data.head()"
      ],
      "execution_count": 437,
      "outputs": [
        {
          "output_type": "execute_result",
          "data": {
            "text/html": [
              "<div>\n",
              "<style scoped>\n",
              "    .dataframe tbody tr th:only-of-type {\n",
              "        vertical-align: middle;\n",
              "    }\n",
              "\n",
              "    .dataframe tbody tr th {\n",
              "        vertical-align: top;\n",
              "    }\n",
              "\n",
              "    .dataframe thead th {\n",
              "        text-align: right;\n",
              "    }\n",
              "</style>\n",
              "<table border=\"1\" class=\"dataframe\">\n",
              "  <thead>\n",
              "    <tr style=\"text-align: right;\">\n",
              "      <th></th>\n",
              "      <th>RI</th>\n",
              "      <th>Na</th>\n",
              "      <th>Mg</th>\n",
              "      <th>Al</th>\n",
              "      <th>Si</th>\n",
              "      <th>K</th>\n",
              "      <th>Ca</th>\n",
              "      <th>Ba</th>\n",
              "      <th>Fe</th>\n",
              "      <th>Type</th>\n",
              "    </tr>\n",
              "  </thead>\n",
              "  <tbody>\n",
              "    <tr>\n",
              "      <th>0</th>\n",
              "      <td>1.52101</td>\n",
              "      <td>13.64</td>\n",
              "      <td>4.49</td>\n",
              "      <td>1.10</td>\n",
              "      <td>71.78</td>\n",
              "      <td>0.06</td>\n",
              "      <td>8.75</td>\n",
              "      <td>0.0</td>\n",
              "      <td>0.0</td>\n",
              "      <td>1</td>\n",
              "    </tr>\n",
              "    <tr>\n",
              "      <th>1</th>\n",
              "      <td>1.51761</td>\n",
              "      <td>13.89</td>\n",
              "      <td>3.60</td>\n",
              "      <td>1.36</td>\n",
              "      <td>72.73</td>\n",
              "      <td>0.48</td>\n",
              "      <td>7.83</td>\n",
              "      <td>0.0</td>\n",
              "      <td>0.0</td>\n",
              "      <td>1</td>\n",
              "    </tr>\n",
              "    <tr>\n",
              "      <th>2</th>\n",
              "      <td>1.51618</td>\n",
              "      <td>13.53</td>\n",
              "      <td>3.55</td>\n",
              "      <td>1.54</td>\n",
              "      <td>72.99</td>\n",
              "      <td>0.39</td>\n",
              "      <td>7.78</td>\n",
              "      <td>0.0</td>\n",
              "      <td>0.0</td>\n",
              "      <td>1</td>\n",
              "    </tr>\n",
              "    <tr>\n",
              "      <th>3</th>\n",
              "      <td>1.51766</td>\n",
              "      <td>13.21</td>\n",
              "      <td>3.69</td>\n",
              "      <td>1.29</td>\n",
              "      <td>72.61</td>\n",
              "      <td>0.57</td>\n",
              "      <td>8.22</td>\n",
              "      <td>0.0</td>\n",
              "      <td>0.0</td>\n",
              "      <td>1</td>\n",
              "    </tr>\n",
              "    <tr>\n",
              "      <th>4</th>\n",
              "      <td>1.51742</td>\n",
              "      <td>13.27</td>\n",
              "      <td>3.62</td>\n",
              "      <td>1.24</td>\n",
              "      <td>73.08</td>\n",
              "      <td>0.55</td>\n",
              "      <td>8.07</td>\n",
              "      <td>0.0</td>\n",
              "      <td>0.0</td>\n",
              "      <td>1</td>\n",
              "    </tr>\n",
              "  </tbody>\n",
              "</table>\n",
              "</div>"
            ],
            "text/plain": [
              "        RI     Na    Mg    Al     Si     K    Ca   Ba   Fe  Type\n",
              "0  1.52101  13.64  4.49  1.10  71.78  0.06  8.75  0.0  0.0     1\n",
              "1  1.51761  13.89  3.60  1.36  72.73  0.48  7.83  0.0  0.0     1\n",
              "2  1.51618  13.53  3.55  1.54  72.99  0.39  7.78  0.0  0.0     1\n",
              "3  1.51766  13.21  3.69  1.29  72.61  0.57  8.22  0.0  0.0     1\n",
              "4  1.51742  13.27  3.62  1.24  73.08  0.55  8.07  0.0  0.0     1"
            ]
          },
          "metadata": {
            "tags": []
          },
          "execution_count": 437
        }
      ]
    },
    {
      "cell_type": "code",
      "metadata": {
        "id": "IH7iqfjh3w3Y",
        "colab_type": "code",
        "colab": {
          "base_uri": "https://localhost:8080/",
          "height": 326
        },
        "outputId": "8c66bbfd-652a-4317-da50-f83092a2f271"
      },
      "source": [
        "glass_data.info()"
      ],
      "execution_count": 438,
      "outputs": [
        {
          "output_type": "stream",
          "text": [
            "<class 'pandas.core.frame.DataFrame'>\n",
            "RangeIndex: 214 entries, 0 to 213\n",
            "Data columns (total 10 columns):\n",
            " #   Column  Non-Null Count  Dtype  \n",
            "---  ------  --------------  -----  \n",
            " 0   RI      214 non-null    float64\n",
            " 1   Na      214 non-null    float64\n",
            " 2   Mg      214 non-null    float64\n",
            " 3   Al      214 non-null    float64\n",
            " 4   Si      214 non-null    float64\n",
            " 5   K       214 non-null    float64\n",
            " 6   Ca      214 non-null    float64\n",
            " 7   Ba      214 non-null    float64\n",
            " 8   Fe      214 non-null    float64\n",
            " 9   Type    214 non-null    int64  \n",
            "dtypes: float64(9), int64(1)\n",
            "memory usage: 16.8 KB\n"
          ],
          "name": "stdout"
        }
      ]
    },
    {
      "cell_type": "markdown",
      "metadata": {
        "id": "PrPtQwYO34PP",
        "colab_type": "text"
      },
      "source": [
        "We do not have any missing value so we can proceed"
      ]
    },
    {
      "cell_type": "markdown",
      "metadata": {
        "id": "jbsgeieP39_Z",
        "colab_type": "text"
      },
      "source": [
        "##**FEATURE SELECTION**"
      ]
    },
    {
      "cell_type": "markdown",
      "metadata": {
        "id": "suQ3OF9u4L0y",
        "colab_type": "text"
      },
      "source": [
        "I will choose the features that afeected the type of glass based on my analysis\n",
        "\n",
        "Access the analysis file [here](https://github.com/MikeDeecode/glass_classification_UCL/blob/master/glass_analysis.ipynb)"
      ]
    },
    {
      "cell_type": "code",
      "metadata": {
        "id": "HEHDkfat30_j",
        "colab_type": "code",
        "colab": {}
      },
      "source": [
        "features = glass_data[['Na', 'Mg', 'Al', 'K', 'Ca', 'Fe', 'Type']]"
      ],
      "execution_count": 439,
      "outputs": []
    },
    {
      "cell_type": "markdown",
      "metadata": {
        "id": "y1NI3eEk5ull",
        "colab_type": "text"
      },
      "source": [
        "Split the features into independent and dependent variables and convert to numpy arrays to be used by the model library"
      ]
    },
    {
      "cell_type": "code",
      "metadata": {
        "id": "Zo0H5fFm5n85",
        "colab_type": "code",
        "colab": {}
      },
      "source": [
        "x = np.asanyarray(features[['Na', 'Mg', 'Al', 'K', 'Ca', 'Fe']])\n",
        "y = np.asanyarray(features['Type'])"
      ],
      "execution_count": 440,
      "outputs": []
    },
    {
      "cell_type": "markdown",
      "metadata": {
        "id": "ZEn0HNvX6MUA",
        "colab_type": "text"
      },
      "source": [
        "Let us normalise the independent features to improve the model accuracy"
      ]
    },
    {
      "cell_type": "code",
      "metadata": {
        "id": "g_EBR1-P6Jbz",
        "colab_type": "code",
        "colab": {}
      },
      "source": [
        "from sklearn import preprocessing "
      ],
      "execution_count": 441,
      "outputs": []
    },
    {
      "cell_type": "code",
      "metadata": {
        "id": "ABOU7DP07W_U",
        "colab_type": "code",
        "colab": {}
      },
      "source": [
        "norm = preprocessing.StandardScaler().fit(x).transform(x)"
      ],
      "execution_count": 442,
      "outputs": []
    },
    {
      "cell_type": "markdown",
      "metadata": {
        "id": "_S4xd-b29TLc",
        "colab_type": "text"
      },
      "source": [
        "Split the data into training and testing sets"
      ]
    },
    {
      "cell_type": "code",
      "metadata": {
        "id": "ZbFxNAs57dp8",
        "colab_type": "code",
        "colab": {}
      },
      "source": [
        "from sklearn.model_selection import train_test_split"
      ],
      "execution_count": 443,
      "outputs": []
    },
    {
      "cell_type": "code",
      "metadata": {
        "id": "gnvLClSz9deA",
        "colab_type": "code",
        "colab": {}
      },
      "source": [
        "x_train, x_test, y_train, y_test = train_test_split(x, y, test_size = 0.3, random_state = 4)"
      ],
      "execution_count": 444,
      "outputs": []
    },
    {
      "cell_type": "code",
      "metadata": {
        "id": "besJ-XnJ9tdk",
        "colab_type": "code",
        "colab": {
          "base_uri": "https://localhost:8080/",
          "height": 35
        },
        "outputId": "388838ba-15c1-4e1c-fb2e-db7b7d4092b4"
      },
      "source": [
        "x_train.shape"
      ],
      "execution_count": 445,
      "outputs": [
        {
          "output_type": "execute_result",
          "data": {
            "text/plain": [
              "(149, 6)"
            ]
          },
          "metadata": {
            "tags": []
          },
          "execution_count": 445
        }
      ]
    },
    {
      "cell_type": "code",
      "metadata": {
        "id": "RCYKpf0K94L5",
        "colab_type": "code",
        "colab": {
          "base_uri": "https://localhost:8080/",
          "height": 35
        },
        "outputId": "ed82172f-64fe-4ec1-dc96-7d7e78f707b1"
      },
      "source": [
        "y_train.shape"
      ],
      "execution_count": 446,
      "outputs": [
        {
          "output_type": "execute_result",
          "data": {
            "text/plain": [
              "(149,)"
            ]
          },
          "metadata": {
            "tags": []
          },
          "execution_count": 446
        }
      ]
    },
    {
      "cell_type": "code",
      "metadata": {
        "id": "ETrfWyvT99Ko",
        "colab_type": "code",
        "colab": {
          "base_uri": "https://localhost:8080/",
          "height": 35
        },
        "outputId": "d9e649d9-e434-4232-b704-837d6d3ec250"
      },
      "source": [
        "x_test.shape"
      ],
      "execution_count": 447,
      "outputs": [
        {
          "output_type": "execute_result",
          "data": {
            "text/plain": [
              "(65, 6)"
            ]
          },
          "metadata": {
            "tags": []
          },
          "execution_count": 447
        }
      ]
    },
    {
      "cell_type": "code",
      "metadata": {
        "id": "tRPnMd2U-ANf",
        "colab_type": "code",
        "colab": {
          "base_uri": "https://localhost:8080/",
          "height": 35
        },
        "outputId": "f7c4de53-2b07-40e9-d87e-f544146c6ffc"
      },
      "source": [
        "y_test.shape"
      ],
      "execution_count": 448,
      "outputs": [
        {
          "output_type": "execute_result",
          "data": {
            "text/plain": [
              "(65,)"
            ]
          },
          "metadata": {
            "tags": []
          },
          "execution_count": 448
        }
      ]
    },
    {
      "cell_type": "markdown",
      "metadata": {
        "id": "EtMibaFC-D5u",
        "colab_type": "text"
      },
      "source": [
        "##**MODELING**"
      ]
    },
    {
      "cell_type": "code",
      "metadata": {
        "id": "7Br1Y3Vj-Bwz",
        "colab_type": "code",
        "colab": {}
      },
      "source": [
        "from sklearn.linear_model import LogisticRegression"
      ],
      "execution_count": 449,
      "outputs": []
    },
    {
      "cell_type": "code",
      "metadata": {
        "id": "fBCMdSyZ-lU4",
        "colab_type": "code",
        "colab": {
          "base_uri": "https://localhost:8080/",
          "height": 108
        },
        "outputId": "9718d3fa-7c3f-4a4b-e49d-a3e0b7e37e5d"
      },
      "source": [
        "model = LogisticRegression(C = 0.06, solver = 'liblinear')\n",
        "model.fit(x_train, y_train)"
      ],
      "execution_count": 450,
      "outputs": [
        {
          "output_type": "execute_result",
          "data": {
            "text/plain": [
              "LogisticRegression(C=0.06, class_weight=None, dual=False, fit_intercept=True,\n",
              "                   intercept_scaling=1, l1_ratio=None, max_iter=100,\n",
              "                   multi_class='auto', n_jobs=None, penalty='l2',\n",
              "                   random_state=None, solver='liblinear', tol=0.0001, verbose=0,\n",
              "                   warm_start=False)"
            ]
          },
          "metadata": {
            "tags": []
          },
          "execution_count": 450
        }
      ]
    },
    {
      "cell_type": "markdown",
      "metadata": {
        "id": "BRwfgxFO_Emt",
        "colab_type": "text"
      },
      "source": [
        "##**PREDICTION**"
      ]
    },
    {
      "cell_type": "code",
      "metadata": {
        "id": "vd8kSAMz_Cr9",
        "colab_type": "code",
        "colab": {
          "base_uri": "https://localhost:8080/",
          "height": 72
        },
        "outputId": "77f62b77-e2fa-4930-c4af-83d31ce3d6c5"
      },
      "source": [
        "y_predict = model.predict(x_test)\n",
        "y_predict"
      ],
      "execution_count": 451,
      "outputs": [
        {
          "output_type": "execute_result",
          "data": {
            "text/plain": [
              "array([1, 7, 2, 1, 1, 1, 2, 1, 1, 1, 2, 1, 1, 7, 1, 2, 1, 7, 7, 1, 1, 1,\n",
              "       7, 1, 2, 7, 1, 1, 7, 2, 2, 7, 1, 1, 1, 1, 1, 1, 1, 1, 2, 7, 2, 2,\n",
              "       1, 7, 1, 1, 1, 7, 2, 1, 1, 1, 1, 7, 1, 7, 2, 7, 1, 1, 1, 1, 1])"
            ]
          },
          "metadata": {
            "tags": []
          },
          "execution_count": 451
        }
      ]
    },
    {
      "cell_type": "markdown",
      "metadata": {
        "id": "ilUKayul_UEX",
        "colab_type": "text"
      },
      "source": [
        "* Above are the predictions gotten from the model, now lets see the accuracy of our model "
      ]
    },
    {
      "cell_type": "markdown",
      "metadata": {
        "id": "DOwBEcy_F5d2",
        "colab_type": "text"
      },
      "source": [
        "##**PROBABILITY OF PREDICTION**"
      ]
    },
    {
      "cell_type": "code",
      "metadata": {
        "id": "QRoWPm3zGG7V",
        "colab_type": "code",
        "colab": {
          "base_uri": "https://localhost:8080/",
          "height": 1000
        },
        "outputId": "a3e33bde-96f9-4afe-9022-a4d34e926fc9"
      },
      "source": [
        "y_predict_prob = model.predict_proba(x_test)\n",
        "y_predict_prob"
      ],
      "execution_count": 452,
      "outputs": [
        {
          "output_type": "execute_result",
          "data": {
            "text/plain": [
              "array([[0.4 , 0.38, 0.12, 0.03, 0.03, 0.04],\n",
              "       [0.05, 0.13, 0.04, 0.09, 0.09, 0.6 ],\n",
              "       [0.11, 0.45, 0.03, 0.33, 0.06, 0.02],\n",
              "       [0.43, 0.34, 0.13, 0.02, 0.03, 0.05],\n",
              "       [0.38, 0.35, 0.13, 0.03, 0.04, 0.07],\n",
              "       [0.41, 0.31, 0.14, 0.02, 0.03, 0.09],\n",
              "       [0.23, 0.48, 0.07, 0.14, 0.05, 0.03],\n",
              "       [0.43, 0.33, 0.14, 0.02, 0.03, 0.05],\n",
              "       [0.39, 0.35, 0.13, 0.03, 0.03, 0.06],\n",
              "       [0.39, 0.35, 0.13, 0.03, 0.03, 0.07],\n",
              "       [0.1 , 0.37, 0.04, 0.26, 0.09, 0.14],\n",
              "       [0.41, 0.36, 0.13, 0.03, 0.03, 0.04],\n",
              "       [0.45, 0.36, 0.12, 0.02, 0.02, 0.03],\n",
              "       [0.06, 0.04, 0.05, 0.02, 0.1 , 0.73],\n",
              "       [0.43, 0.38, 0.11, 0.03, 0.03, 0.02],\n",
              "       [0.35, 0.37, 0.12, 0.05, 0.04, 0.07],\n",
              "       [0.39, 0.35, 0.13, 0.03, 0.03, 0.06],\n",
              "       [0.05, 0.12, 0.04, 0.08, 0.1 , 0.61],\n",
              "       [0.06, 0.12, 0.04, 0.08, 0.1 , 0.61],\n",
              "       [0.42, 0.38, 0.11, 0.03, 0.03, 0.02],\n",
              "       [0.4 , 0.37, 0.13, 0.03, 0.03, 0.04],\n",
              "       [0.43, 0.35, 0.13, 0.02, 0.03, 0.04],\n",
              "       [0.05, 0.17, 0.04, 0.12, 0.1 , 0.53],\n",
              "       [0.39, 0.35, 0.13, 0.03, 0.03, 0.06],\n",
              "       [0.32, 0.36, 0.11, 0.05, 0.05, 0.1 ],\n",
              "       [0.28, 0.22, 0.13, 0.02, 0.04, 0.3 ],\n",
              "       [0.4 , 0.37, 0.12, 0.03, 0.03, 0.05],\n",
              "       [0.47, 0.33, 0.12, 0.02, 0.03, 0.03],\n",
              "       [0.06, 0.13, 0.04, 0.08, 0.1 , 0.59],\n",
              "       [0.29, 0.39, 0.1 , 0.07, 0.05, 0.11],\n",
              "       [0.37, 0.37, 0.13, 0.04, 0.03, 0.06],\n",
              "       [0.06, 0.12, 0.04, 0.08, 0.1 , 0.59],\n",
              "       [0.39, 0.37, 0.13, 0.03, 0.03, 0.05],\n",
              "       [0.44, 0.38, 0.11, 0.03, 0.02, 0.02],\n",
              "       [0.42, 0.35, 0.13, 0.02, 0.03, 0.04],\n",
              "       [0.4 , 0.33, 0.13, 0.03, 0.03, 0.08],\n",
              "       [0.42, 0.33, 0.14, 0.02, 0.03, 0.06],\n",
              "       [0.45, 0.35, 0.12, 0.02, 0.03, 0.03],\n",
              "       [0.43, 0.34, 0.13, 0.02, 0.03, 0.05],\n",
              "       [0.39, 0.35, 0.13, 0.03, 0.03, 0.07],\n",
              "       [0.08, 0.42, 0.03, 0.35, 0.07, 0.05],\n",
              "       [0.16, 0.23, 0.1 , 0.04, 0.04, 0.43],\n",
              "       [0.17, 0.38, 0.07, 0.15, 0.08, 0.16],\n",
              "       [0.12, 0.43, 0.03, 0.3 , 0.08, 0.04],\n",
              "       [0.39, 0.26, 0.14, 0.02, 0.03, 0.16],\n",
              "       [0.05, 0.17, 0.04, 0.13, 0.09, 0.52],\n",
              "       [0.4 , 0.34, 0.13, 0.03, 0.03, 0.07],\n",
              "       [0.4 , 0.35, 0.13, 0.03, 0.03, 0.06],\n",
              "       [0.39, 0.33, 0.14, 0.03, 0.03, 0.08],\n",
              "       [0.05, 0.16, 0.04, 0.12, 0.09, 0.54],\n",
              "       [0.25, 0.38, 0.09, 0.08, 0.06, 0.14],\n",
              "       [0.4 , 0.34, 0.13, 0.03, 0.03, 0.07],\n",
              "       [0.38, 0.34, 0.13, 0.03, 0.03, 0.09],\n",
              "       [0.4 , 0.36, 0.13, 0.03, 0.03, 0.05],\n",
              "       [0.3 , 0.28, 0.12, 0.03, 0.04, 0.22],\n",
              "       [0.03, 0.17, 0.02, 0.31, 0.04, 0.43],\n",
              "       [0.39, 0.35, 0.13, 0.03, 0.03, 0.07],\n",
              "       [0.06, 0.12, 0.04, 0.08, 0.1 , 0.61],\n",
              "       [0.27, 0.34, 0.1 , 0.06, 0.06, 0.18],\n",
              "       [0.06, 0.14, 0.05, 0.1 , 0.1 , 0.55],\n",
              "       [0.38, 0.34, 0.13, 0.03, 0.04, 0.08],\n",
              "       [0.42, 0.37, 0.13, 0.03, 0.03, 0.03],\n",
              "       [0.38, 0.37, 0.13, 0.03, 0.03, 0.06],\n",
              "       [0.4 , 0.32, 0.14, 0.02, 0.03, 0.09],\n",
              "       [0.41, 0.34, 0.13, 0.02, 0.03, 0.06]])"
            ]
          },
          "metadata": {
            "tags": []
          },
          "execution_count": 452
        }
      ]
    },
    {
      "cell_type": "markdown",
      "metadata": {
        "id": "2RZ7YWHTGOHd",
        "colab_type": "text"
      },
      "source": [
        "The above matrix shows the probability of each prediction"
      ]
    },
    {
      "cell_type": "markdown",
      "metadata": {
        "id": "YdYhLlmI_g-Y",
        "colab_type": "text"
      },
      "source": [
        "##**MODEL EVALUATION**"
      ]
    },
    {
      "cell_type": "markdown",
      "metadata": {
        "id": "TMpWuDX5_j9m",
        "colab_type": "text"
      },
      "source": [
        "**Jaccard Index**"
      ]
    },
    {
      "cell_type": "markdown",
      "metadata": {
        "id": "6juT1cEa_q93",
        "colab_type": "text"
      },
      "source": [
        "Note: Best model here is 1.0"
      ]
    },
    {
      "cell_type": "code",
      "metadata": {
        "id": "YBJ23hrQ_SQ4",
        "colab_type": "code",
        "colab": {}
      },
      "source": [
        "from sklearn.metrics import jaccard_similarity_score"
      ],
      "execution_count": 453,
      "outputs": []
    },
    {
      "cell_type": "code",
      "metadata": {
        "id": "USpXEBpN_30J",
        "colab_type": "code",
        "colab": {
          "base_uri": "https://localhost:8080/",
          "height": 35
        },
        "outputId": "8b747fc1-f6aa-476c-98de-8ebc41e32ef2"
      },
      "source": [
        "jaccard_similarity_score(y_test, y_predict)"
      ],
      "execution_count": 454,
      "outputs": [
        {
          "output_type": "execute_result",
          "data": {
            "text/plain": [
              "0.6"
            ]
          },
          "metadata": {
            "tags": []
          },
          "execution_count": 454
        }
      ]
    },
    {
      "cell_type": "markdown",
      "metadata": {
        "id": "-0SrQ2UcADeF",
        "colab_type": "text"
      },
      "source": [
        "* The models seems quite alright but we should try to improve our model score by using another solver and changing the inverse of regularization(C) which will be made available later"
      ]
    },
    {
      "cell_type": "markdown",
      "metadata": {
        "id": "T338HBi-B1vP",
        "colab_type": "text"
      },
      "source": [
        "**Classification report**"
      ]
    },
    {
      "cell_type": "code",
      "metadata": {
        "id": "HlDXWQztB6KD",
        "colab_type": "code",
        "colab": {
          "base_uri": "https://localhost:8080/",
          "height": 254
        },
        "outputId": "0949217c-256d-4a1d-e14a-e8b8043cffef"
      },
      "source": [
        "from sklearn.metrics import classification_report\n",
        "print(classification_report(y_test, y_predict))"
      ],
      "execution_count": 455,
      "outputs": [
        {
          "output_type": "stream",
          "text": [
            "              precision    recall  f1-score   support\n",
            "\n",
            "           1       0.51      1.00      0.68        20\n",
            "           2       0.67      0.31      0.42        26\n",
            "           3       0.00      0.00      0.00         1\n",
            "           5       0.00      0.00      0.00         4\n",
            "           6       0.00      0.00      0.00         3\n",
            "           7       0.79      1.00      0.88        11\n",
            "\n",
            "    accuracy                           0.60        65\n",
            "   macro avg       0.33      0.38      0.33        65\n",
            "weighted avg       0.56      0.60      0.53        65\n",
            "\n"
          ],
          "name": "stdout"
        }
      ]
    },
    {
      "cell_type": "markdown",
      "metadata": {
        "id": "SU6CMsmSCqQk",
        "colab_type": "text"
      },
      "source": [
        "In the classification report, we can see the precision, recall and F1 score of the predictions gotten from our model "
      ]
    },
    {
      "cell_type": "markdown",
      "metadata": {
        "id": "v-brf2NcENM6",
        "colab_type": "text"
      },
      "source": [
        "* It is important to note that the accuracy of the model is 0.52 which is also the Jaccard index"
      ]
    },
    {
      "cell_type": "markdown",
      "metadata": {
        "id": "tkR0Cd9YFhJ0",
        "colab_type": "text"
      },
      "source": [
        "* Best model has 1 as F1 score "
      ]
    },
    {
      "cell_type": "markdown",
      "metadata": {
        "id": "8K6LsxvXFGYv",
        "colab_type": "text"
      },
      "source": [
        "**Log loss**"
      ]
    },
    {
      "cell_type": "code",
      "metadata": {
        "id": "rFd0NClmFI4e",
        "colab_type": "code",
        "colab": {
          "base_uri": "https://localhost:8080/",
          "height": 35
        },
        "outputId": "38c0842a-1aec-41b7-80c5-2698b7188a28"
      },
      "source": [
        "from sklearn.metrics import log_loss\n",
        "log_loss(y_test, y_predict_prob)"
      ],
      "execution_count": 456,
      "outputs": [
        {
          "output_type": "execute_result",
          "data": {
            "text/plain": [
              "1.0647673025537632"
            ]
          },
          "metadata": {
            "tags": []
          },
          "execution_count": 456
        }
      ]
    },
    {
      "cell_type": "markdown",
      "metadata": {
        "id": "4eTIwvy1LXRF",
        "colab_type": "text"
      },
      "source": [
        "* This is the lowest Log loss value I got based on my model predictions"
      ]
    },
    {
      "cell_type": "markdown",
      "metadata": {
        "id": "vyvxECJKLKPM",
        "colab_type": "text"
      },
      "source": [
        "This is the best accurracy I got after tryimg defferent solvers and different values for inverse of regularization"
      ]
    },
    {
      "cell_type": "markdown",
      "metadata": {
        "id": "JCefT3dfK5Bw",
        "colab_type": "text"
      },
      "source": [
        "**OBSERVATION**"
      ]
    },
    {
      "cell_type": "markdown",
      "metadata": {
        "id": "7JfMaunGK8Nu",
        "colab_type": "text"
      },
      "source": [
        "* We need more data like thicness and the likes to be able to effectively classify the glass becausr it seems the characteristics provided here are not very distictive in most cases therefore increasing the errors of the model"
      ]
    },
    {
      "cell_type": "markdown",
      "metadata": {
        "id": "d91PyjdX0Qpp",
        "colab_type": "text"
      },
      "source": [
        "#**THANK YOU FOR VIEWING MY PROJECT!!!**"
      ]
    }
  ]
}